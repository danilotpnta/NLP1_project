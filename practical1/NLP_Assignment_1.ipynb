{
  "cells": [
    {
      "cell_type": "markdown",
      "metadata": {
        "id": "1-aRiOgl4nHg"
      },
      "source": [
        "------\n",
        "**You cannot save any changes you make to this file, so please make sure to save it on your Google Colab drive or download it as a .ipynb file.**\n",
        "\n",
        "------\n",
        "\n"
      ]
    },
    {
      "cell_type": "markdown",
      "metadata": {
        "id": "lIZrAUx57vsM"
      },
      "source": [
        "Practical 1: Sentiment Detection in Movie Reviews\n",
        "========================================\n",
        "\n"
      ]
    },
    {
      "cell_type": "markdown",
      "metadata": {
        "id": "J4kXPMhyngZW"
      },
      "source": [
        "This practical concerns detecting sentiment in movie reviews. This is a typical NLP classification task.\n",
        "In [this file](https://gist.githubusercontent.com/bastings/d47423301cca214e3930061a5a75e177/raw/5113687382919e22b1f09ce71a8fecd1687a5760/reviews.json) (80MB) you will find 1000 positive and 1000 negative **movie reviews**.\n",
        "Each review is a **document** and consists of one or more sentences.\n",
        "\n",
        "To prepare yourself for this practical, you should\n",
        "have a look at a few of these texts to understand the difficulties of\n",
        "the task: how might one go about classifying the texts? You will write\n",
        "code that decides whether a movie review conveys positive or\n",
        "negative sentiment.\n",
        "\n",
        "Please make sure you have read the following paper:\n",
        "\n",
        ">   Bo Pang, Lillian Lee, and Shivakumar Vaithyanathan\n",
        "(2002).\n",
        "[Thumbs up? Sentiment Classification using Machine Learning\n",
        "Techniques](https://dl.acm.org/citation.cfm?id=1118704). EMNLP.\n",
        "\n",
        "Bo Pang et al. introduced the movie review sentiment\n",
        "classification task, and the above paper was one of the first papers on\n",
        "the topic. The first version of your sentiment classifier will do\n",
        "something similar to Pang et al.'s system. If you have questions about it,\n",
        "you should resolve you doubts as soon as possible with your TA.\n"
      ]
    },
    {
      "cell_type": "markdown",
      "metadata": {
        "id": "cb7errgRASzZ"
      },
      "source": [
        "**Advice**\n",
        "\n",
        "Please read through the entire practical and familiarise\n",
        "yourself with all requirements before you start coding or otherwise\n",
        "solving the tasks. Writing clean and concise code can make the difference\n",
        "between solving the assignment in a matter of hours, and taking days to\n",
        "run all experiments.\n",
        "\n",
        "\n",
        "**Implementation**\n",
        "\n",
        "While we inserted code cells to indicate where you should implement your own code, please feel free to add/remove code blocks where you see fit (but make sure that the general structure of the assignment is preserved). Also, please keep in mind that it is always good practice to structure your code properly, e.g., by implementing separate classes and functions that can be reused.\n",
        "\n",
        "## Environment\n",
        "\n",
        "All code should be written in **Python 3**.\n",
        "This is the default in Google Colab."
      ]
    },
    {
      "cell_type": "code",
      "execution_count": null,
      "metadata": {
        "colab": {
          "base_uri": "https://localhost:8080/"
        },
        "id": "SaZnxptMJiD7",
        "outputId": "5be587dc-934b-4600-ef54-495e7c125190"
      },
      "outputs": [
        {
          "name": "stdout",
          "output_type": "stream",
          "text": [
            "Python 3.10.12\n"
          ]
        }
      ],
      "source": [
        "!python --version"
      ]
    },
    {
      "cell_type": "markdown",
      "metadata": {
        "id": "BYZyIF7lJnGn"
      },
      "source": [
        "If you want to run code on your own computer, then download this notebook through `File -> Download .ipynb`.\n",
        "The easiest way to\n",
        "install Python is through downloading\n",
        "[Anaconda](https://www.anaconda.com/download).\n",
        "After installation, you can start the notebook by typing `jupyter notebook filename.ipynb`.\n",
        "You can also use an IDE\n",
        "such as [PyCharm](https://www.jetbrains.com/pycharm/download/) to make\n",
        "coding and debugging easier. It is good practice to create a [virtual\n",
        "environment](https://docs.python.org/3/tutorial/venv.html) for this\n",
        "project, so that any Python packages don’t interfere with other\n",
        "projects.\n",
        "\n",
        "\n",
        "**Learning Python 3**\n",
        "\n",
        "If you are new to Python 3, you may want to check out a few of these resources:\n",
        "- https://learnxinyminutes.com/docs/python3/\n",
        "- https://www.learnpython.org/\n",
        "- https://docs.python.org/3/tutorial/"
      ]
    },
    {
      "cell_type": "code",
      "execution_count": null,
      "metadata": {
        "id": "hok-BFu9lGoK"
      },
      "outputs": [],
      "source": [
        "import math\n",
        "import os\n",
        "import sys\n",
        "from subprocess import call\n",
        "from nltk import FreqDist\n",
        "from nltk.util import ngrams\n",
        "from nltk.stem.porter import PorterStemmer\n",
        "import sklearn as sk\n",
        "from google.colab import drive\n",
        "import pickle\n",
        "import json\n",
        "from collections import Counter\n",
        "import requests\n",
        "import matplotlib.pyplot as plt\n",
        "import numpy as np"
      ]
    },
    {
      "cell_type": "markdown",
      "metadata": {
        "id": "bXWyGHwE-ieQ"
      },
      "source": [
        "## Loading the data\n",
        "\n",
        "**Download the sentiment lexicon and the movie reviews dataset.**"
      ]
    },
    {
      "cell_type": "code",
      "execution_count": null,
      "metadata": {
        "colab": {
          "base_uri": "https://localhost:8080/"
        },
        "id": "lm-rakqtlMOT",
        "outputId": "60f857c1-540a-4875-e072-6cd4b71c59b3"
      },
      "outputs": [
        {
          "name": "stdout",
          "output_type": "stream",
          "text": [
            "--2023-11-09 10:24:10--  https://gist.githubusercontent.com/bastings/d6f99dcb6c82231b94b013031356ba05/raw/f80a0281eba8621b122012c89c8b5e2200b39fd6/sent_lexicon\n",
            "Resolving gist.githubusercontent.com (gist.githubusercontent.com)... 185.199.108.133, 185.199.109.133, 185.199.110.133, ...\n",
            "Connecting to gist.githubusercontent.com (gist.githubusercontent.com)|185.199.108.133|:443... connected.\n",
            "HTTP request sent, awaiting response... 200 OK\n",
            "Length: 662577 (647K) [text/plain]\n",
            "Saving to: ‘sent_lexicon.2’\n",
            "\n",
            "sent_lexicon.2      100%[===================>] 647.05K  --.-KB/s    in 0.05s   \n",
            "\n",
            "2023-11-09 10:24:10 (11.9 MB/s) - ‘sent_lexicon.2’ saved [662577/662577]\n",
            "\n",
            "--2023-11-09 10:24:10--  https://gist.githubusercontent.com/bastings/d47423301cca214e3930061a5a75e177/raw/5113687382919e22b1f09ce71a8fecd1687a5760/reviews.json\n",
            "Resolving gist.githubusercontent.com (gist.githubusercontent.com)... 185.199.108.133, 185.199.109.133, 185.199.110.133, ...\n",
            "Connecting to gist.githubusercontent.com (gist.githubusercontent.com)|185.199.108.133|:443... connected.\n",
            "HTTP request sent, awaiting response... 200 OK\n",
            "Length: 83503869 (80M) [text/plain]\n",
            "Saving to: ‘reviews.json.2’\n",
            "\n",
            "reviews.json.2      100%[===================>]  79.63M   254MB/s    in 0.3s    \n",
            "\n",
            "2023-11-09 10:24:10 (254 MB/s) - ‘reviews.json.2’ saved [83503869/83503869]\n",
            "\n"
          ]
        }
      ],
      "source": [
        "# download sentiment lexicon\n",
        "!wget https://gist.githubusercontent.com/bastings/d6f99dcb6c82231b94b013031356ba05/raw/f80a0281eba8621b122012c89c8b5e2200b39fd6/sent_lexicon\n",
        "# download review data\n",
        "!wget https://gist.githubusercontent.com/bastings/d47423301cca214e3930061a5a75e177/raw/5113687382919e22b1f09ce71a8fecd1687a5760/reviews.json"
      ]
    },
    {
      "cell_type": "markdown",
      "metadata": {
        "id": "AkPwuHp5LSuQ"
      },
      "source": [
        "**Load the movie reviews.**\n",
        "\n",
        "Each word in a review comes with its part-of-speech tag. For documentation on POS-tags, see https://catalog.ldc.upenn.edu/docs/LDC99T42/tagguid1.pdf.\n"
      ]
    },
    {
      "cell_type": "code",
      "execution_count": null,
      "metadata": {
        "colab": {
          "base_uri": "https://localhost:8080/"
        },
        "id": "careEKj-mRpl",
        "outputId": "0c279d7c-f037-4637-cc80-2c6db4b9deda"
      },
      "outputs": [
        {
          "name": "stdout",
          "output_type": "stream",
          "text": [
            "Total number of reviews: 2000 \n",
            "\n",
            "0 NEG 29\n",
            "Two/CD teen/JJ couples/NNS go/VBP to/TO a/DT church/NN party/NN ,/, drink/NN and/CC then/RB drive/NN ./.\n",
            "1 NEG 11\n",
            "Damn/JJ that/IN Y2K/CD bug/NN ./.\n",
            "2 NEG 24\n",
            "It/PRP is/VBZ movies/NNS like/IN these/DT that/WDT make/VBP a/DT jaded/JJ movie/NN viewer/NN thankful/JJ for/IN the/DT invention/NN of/IN the/DT Timex/NNP IndiGlo/NNP watch/NN ./.\n",
            "3 NEG 19\n",
            "QUEST/NN FOR/IN CAMELOT/NNP ``/`` Quest/NNP for/IN Camelot/NNP ''/'' is/VBZ Warner/NNP Bros./NNP '/POS first/JJ feature-length/JJ ,/, fully-animated/JJ attempt/NN to/TO steal/VB clout/NN from/IN Disney/NNP 's/POS cartoon/NN empire/NN ,/, but/CC the/DT mouse/NN has/VBZ no/DT reason/NN to/TO be/VB worried/VBN ./.\n",
            "4 NEG 38\n",
            "Synopsis/NNPS :/: A/DT mentally/RB unstable/JJ man/NN undergoing/VBG psychotherapy/NN saves/VBZ a/DT boy/NN from/IN a/DT potentially/RB fatal/JJ accident/NN and/CC then/RB falls/VBZ in/IN love/NN with/IN the/DT boy/NN 's/POS mother/NN ,/, a/DT fledgling/NN restauranteur/NN ./.\n",
            "\n",
            "Number of word types: 47743\n",
            "Number of word tokens: 1512359\n",
            "\n",
            "Most common tokens:\n",
            "         , :    77842\n",
            "       the :    75948\n",
            "         . :    59027\n",
            "         a :    37583\n",
            "       and :    35235\n",
            "        of :    33864\n",
            "        to :    31601\n",
            "        is :    25972\n",
            "        in :    21563\n",
            "        's :    18043\n",
            "        it :    15904\n",
            "      that :    15820\n",
            "     -rrb- :    11768\n",
            "     -lrb- :    11670\n",
            "        as :    11312\n",
            "      with :    10739\n",
            "       for :     9816\n",
            "       his :     9542\n",
            "      this :     9497\n",
            "      film :     9404\n"
          ]
        }
      ],
      "source": [
        "# file structure:\n",
        "# [\n",
        "#  {\"cv\": integer, \"sentiment\": str, \"content\": list}\n",
        "#  {\"cv\": integer, \"sentiment\": str, \"content\": list}\n",
        "#   ..\n",
        "# ]\n",
        "# where `content` is a list of sentences,\n",
        "# with a sentence being a list of (token, pos_tag) pairs.\n",
        "\n",
        "\n",
        "with open(\"reviews.json\", mode=\"r\", encoding=\"utf-8\") as f:\n",
        "  reviews = json.load(f)\n",
        "\n",
        "print(\"Total number of reviews:\", len(reviews), '\\n')\n",
        "\n",
        "def print_sentence_with_pos(s):\n",
        "  print(\" \".join(\"%s/%s\" % (token, pos_tag) for token, pos_tag in s))\n",
        "\n",
        "for i, r in enumerate(reviews):\n",
        "  print(r[\"cv\"], r[\"sentiment\"], len(r[\"content\"]))  # cv, sentiment, num sents\n",
        "  print_sentence_with_pos(r[\"content\"][0])\n",
        "  if i == 4:\n",
        "    break\n",
        "\n",
        "c = Counter()\n",
        "for review in reviews:\n",
        "  for sentence in review[\"content\"]:\n",
        "    for token, pos_tag in sentence:\n",
        "      c[token.lower()] += 1\n",
        "\n",
        "print(\"\\nNumber of word types:\", len(c))\n",
        "print(\"Number of word tokens:\", sum(c.values()))\n",
        "\n",
        "print(\"\\nMost common tokens:\")\n",
        "for token, count in c.most_common(20):\n",
        "  print(\"%10s : %8d\" % (token, count))\n"
      ]
    },
    {
      "cell_type": "markdown",
      "metadata": {
        "id": "E6PWaEoh8B34"
      },
      "source": [
        "#(1) Lexicon-based approach (3.5pts)\n",
        "\n"
      ]
    },
    {
      "cell_type": "markdown",
      "metadata": {
        "id": "JsTSMb6ma4E8"
      },
      "source": [
        "A traditional approach to classify documents according to their sentiment is the lexicon-based approach. To implement this approach, you need a **sentiment lexicon**, i.e., a list of words annotated with a sentiment label (e.g., positive and negative, or a score from 0 to 5).\n",
        "\n",
        "In this practical, you will use the sentiment\n",
        "lexicon released by Wilson et al. (2005).\n",
        "\n",
        "> Theresa Wilson, Janyce Wiebe, and Paul Hoffmann\n",
        "(2005). [Recognizing Contextual Polarity in Phrase-Level Sentiment\n",
        "Analysis](http://www.aclweb.org/anthology/H/H05/H05-1044.pdf). HLT-EMNLP.\n",
        "\n",
        "Pay attention to all the information available in the sentiment lexicon. The field *word1* contains the lemma, *priorpolarity* contains the sentiment label (positive, negative, both, or neutral), *type* gives you the magnitude of the word's sentiment (strong or weak), and *pos1* gives you the part-of-speech tag of the lemma. Some lemmas can have multiple part-of-speech tags and thus multiple entries in the lexicon. The path of the lexicon file is `\"sent_lexicon\"`.\n"
      ]
    },
    {
      "cell_type": "code",
      "execution_count": null,
      "metadata": {
        "colab": {
          "base_uri": "https://localhost:8080/"
        },
        "id": "Ogq0Eq2hQglh",
        "outputId": "2226ecbb-e0df-4bb9-9ff2-1829aa8c6803"
      },
      "outputs": [
        {
          "name": "stdout",
          "output_type": "stream",
          "text": [
            "type=weaksubj len=1 word1=abandoned pos1=adj stemmed1=n priorpolarity=negative\n",
            "type=weaksubj len=1 word1=abandonment pos1=noun stemmed1=n priorpolarity=negative\n",
            "type=weaksubj len=1 word1=abandon pos1=verb stemmed1=y priorpolarity=negative\n",
            "type=strongsubj len=1 word1=abase pos1=verb stemmed1=y priorpolarity=negative\n",
            "type=strongsubj len=1 word1=abasement pos1=anypos stemmed1=y priorpolarity=negative\n"
          ]
        }
      ],
      "source": [
        "with open(\"sent_lexicon\", mode=\"r\", encoding=\"utf-8\") as f:\n",
        "  line_cnt = 0\n",
        "  for line in f:\n",
        "    print(line.strip())\n",
        "    line_cnt += 1\n",
        "    if line_cnt > 4:\n",
        "      break"
      ]
    },
    {
      "cell_type": "markdown",
      "metadata": {
        "id": "Mml4nOtIUBhn"
      },
      "source": [
        "Lexica such as this can be used to solve\n",
        "the classification task without using Machine Learning. For example, one might look up every word $w_1 ... w_n$ in a document, and compute a **binary score**\n",
        "$S_{binary}$ by counting how many words have a positive or a\n",
        "negative label in the sentiment lexicon $SLex$.\n",
        "\n",
        "$$S_{binary}(w_1 w_2 ... w_n) = \\sum_{i = 1}^{n}\\text{sign}(SLex\\big[w_i\\big])$$\n",
        "\n",
        "where $\\text{sign}(SLex\\big[w_i\\big])$ refers to the polarity of $w_i$.\n",
        "\n",
        "**Threshold.** On average, there are more positive than negative words per review (~7.13 more positive than negative per review) to take this bias into account you should use a threshold of **8** (roughly the bias itself) to make it harder to classify as positive.\n",
        "\n",
        "$$\n",
        "\\text{classify}(S_{binary}(w_1 w_2 ... w_n)) = \\bigg\\{\\begin{array}{ll}\n",
        "        \\text{positive} & \\text{if } S_{binary}(w_1w_2...w_n) > threshold\\\\\n",
        "        \\text{negative} & \\text{otherwise}\n",
        "        \\end{array}\n",
        "$$\n"
      ]
    },
    {
      "cell_type": "markdown",
      "metadata": {
        "id": "tOFnMvbeeZrc"
      },
      "source": [
        "#### (Q1.1) Implement this approach and report its classification accuracy. (1 pt)"
      ]
    },
    {
      "cell_type": "code",
      "execution_count": null,
      "metadata": {
        "id": "a1ZQrjKs4ksg"
      },
      "outputs": [],
      "source": [
        "def make_lexicon(weighted=False):\n",
        "    \"\"\"\n",
        "    Create a lexicon from a file containing sentiment data.\n",
        "\n",
        "    This function reads a text file named \"sent_lexicon\" and extracts word-sentiment pairs to create a lexicon\n",
        "    that associates words with their corresponding sentiments. Optionally, it can include word magnitudes in the lexicon if\n",
        "    the 'weighted' parameter is set to True.\n",
        "\n",
        "    Parameters:\n",
        "    weighted (bool, optional): If True, include word magnitudes along with sentiments in the lexicon.\n",
        "\n",
        "    Returns:\n",
        "    dict: A dictionary where keys are words, and values are sentiment labels (e.g., 'positive', 'negative').\n",
        "    If 'weighted' is True, the values are lists containing magnitude and sentiment, e.g., ['magnitude', 'positive'].\n",
        "\n",
        "    Example:\n",
        "    If \"sent_lexicon\" contains the following lines:\n",
        "    \"type=weak word=amazing sentiment=positive\"\n",
        "    \"type=strong word=terrible sentiment=negative\"\n",
        "\n",
        "    If 'weighted' is set to False, the resulting lexicon will be:\n",
        "    {\n",
        "        \"amazing\": \"positive\",\n",
        "        \"terrible\": \"negative\"\n",
        "    }\n",
        "\n",
        "    If 'weighted' is set to True, the resulting lexicon will be:\n",
        "    {\n",
        "        \"amazing\": ['weaksubj', \"positive\"],\n",
        "        \"terrible\": ['strongsubj', \"negative\"]\n",
        "    }\n",
        "    \"\"\"\n",
        "    lexicon = {}\n",
        "    with open(\"sent_lexicon\", mode=\"r\", encoding=\"utf-8\") as f:\n",
        "      for line in f:\n",
        "          parts = line.strip().split()\n",
        "          magnitude = parts[0].split('=')[1]\n",
        "          word = parts[2].split('=')[1]\n",
        "          sentiment = parts[5].split('=')[1]\n",
        "\n",
        "          if weighted:\n",
        "            lexicon[word] = [magnitude, sentiment]\n",
        "          else:\n",
        "            lexicon[word] = sentiment\n",
        "      return lexicon"
      ]
    },
    {
      "cell_type": "code",
      "execution_count": null,
      "metadata": {
        "id": "ED2aTEYutW1-"
      },
      "outputs": [],
      "source": [
        "def classify_review(review, lexicon, weighted=False, threshold=8):\n",
        "    \"\"\"\n",
        "    Classify a review as positive or negative based on a lexicon.\n",
        "\n",
        "    This function takes a review as input and classifies it as 'POS' (positive) or 'NEG' (negative) based on the provided lexicon.\n",
        "    Optionally, it supports weighting the sentiment based on a magnitude factor and a specified ratio for the binary score threshold.\n",
        "\n",
        "    Parameters:\n",
        "    review (str): The input review to be classified.\n",
        "    lexicon (dict): A dictionary where keys are words, and values are sentiment labels, including optional magnitude information.\n",
        "    weighted (bool, optional): If True, the sentiment scoring considers the magnitude of subjectivity (default: False).\n",
        "    ratio (float, optional): A positive real number to adjust the binary score threshold (default: 1).\n",
        "\n",
        "    Returns:\n",
        "    str: 'POS' if the review is classified as positive, 'NEG' otherwise.\n",
        "\n",
        "    The function tokenizes the input review into words and calculates a binary score based on the lexicon. If 'weighted' is True, the sentiment scoring also considers the magnitude factor. The final classification is based on comparing the binary score to a threshold defined by the 'ratio' parameter.\n",
        "    \"\"\"\n",
        "    # Tokenize the document into words\n",
        "    words = review.split()\n",
        "    sbinary = 0\n",
        "    # Calculate the binary score based on the lexicon\n",
        "    for word in words:\n",
        "      if weighted is False:\n",
        "        sentiment = lexicon.get(word)\n",
        "        if sentiment == \"positive\":\n",
        "          sbinary += 1\n",
        "        elif sentiment == \"negative\":\n",
        "          sbinary -= 1\n",
        "      else:\n",
        "        sentiment = lexicon.get(word)[1] if lexicon.get(word) is not None else None\n",
        "        magnitude = lexicon.get(word)[0] if lexicon.get(word) is not None else None\n",
        "        if sentiment == \"positive\":\n",
        "          sbinary += 1 if magnitude == \"weaksubj\" else 2 if magnitude == \"strongsubj\" else 0\n",
        "        elif sentiment == \"negative\":\n",
        "          sbinary -= 1 if magnitude == \"weaksubj\" else 2 if magnitude == \"strongsubj\" else 0\n",
        "\n",
        "    if sbinary > threshold:\n",
        "        return 'POS'\n",
        "    else:\n",
        "        return 'NEG'"
      ]
    },
    {
      "cell_type": "code",
      "execution_count": null,
      "metadata": {
        "id": "Gd7M8nh874F0"
      },
      "outputs": [],
      "source": [
        "def full_sentence(s):\n",
        "    \"\"\"\n",
        "    Construct a full sentence from a list of tokens.\n",
        "\n",
        "    This function takes a list of tokens, where each token is represented as a tuple (token, pos_tag), and constructs a full\n",
        "    sentence by joining the tokens with spaces.\n",
        "\n",
        "    Parameters:\n",
        "    s (list): A list of tokens, where each token is a tuple (token, pos_tag), and the second element of the tuple is ignored.\n",
        "\n",
        "    Returns:\n",
        "    str: A string representing the full sentence constructed by joining the tokens with spaces.\n",
        "    \"\"\"\n",
        "    return \" \".join(\"%s\" % token for token, _ in s)"
      ]
    },
    {
      "cell_type": "code",
      "execution_count": null,
      "metadata": {
        "id": "WlneI-PEUnZP"
      },
      "outputs": [],
      "source": [
        "def build_document(review):\n",
        "  \"\"\"\n",
        "    Build a document by combining sub-reviews from a review.\n",
        "\n",
        "    This function takes a review, which is typically a dictionary with a \"content\" key containing a list of sub-reviews.\n",
        "    It constructs a single document by joining the sub-reviews with spaces.\n",
        "\n",
        "    Parameters:\n",
        "    review (dict): A dictionary containing sub-reviews under the \"content\" key.\n",
        "\n",
        "    Returns:\n",
        "    str: A string representing the document created by joining the sub-reviews.\n",
        "  \"\"\"\n",
        "  document = [full_sentence(sub_review) for sub_review in review[\"content\"]]\n",
        "  joined_document = ' '.join(document)\n",
        "  return joined_document"
      ]
    },
    {
      "cell_type": "code",
      "execution_count": null,
      "metadata": {
        "colab": {
          "base_uri": "https://localhost:8080/"
        },
        "id": "iy528EUTphz5",
        "outputId": "b81249d7-c9ff-4b9b-c937-0af0a87b956b"
      },
      "outputs": [
        {
          "name": "stdout",
          "output_type": "stream",
          "text": [
            "Accuracy: 0.679\n"
          ]
        }
      ],
      "source": [
        "# token_results should be a list of binary indicators; for example [1, 0, 1, ...]\n",
        "# where 1 indicates a correct classification and 0 an incorrect classification.\n",
        "lexicon = make_lexicon(weighted=False)\n",
        "\n",
        "token_results = []\n",
        "\n",
        "for review in reviews:\n",
        "  document = build_document(review) # Combine all the sub-reviews together in a string\n",
        "\n",
        "  true_sentiment = review[\"sentiment\"] # Get true sentiment\n",
        "  predict_sentiment = classify_review(document, lexicon) # Make a prediciton\n",
        "\n",
        "  token_results.append(1 if true_sentiment == predict_sentiment else 0) # If prediction is correct add 1\n",
        "\n",
        "token_accuracy = sum(token_results)/len(token_results)\n",
        "print(\"Accuracy: %0.3f\" % token_accuracy)"
      ]
    },
    {
      "cell_type": "markdown",
      "metadata": {
        "id": "Twox0s_3eS0V"
      },
      "source": [
        "As the sentiment lexicon also has information about the **magnitude** of\n",
        "sentiment (e.g., *“excellent\"* has the same sentiment _polarity_ as *“good\"* but it has a higher magnitude), we can take a more fine-grained approach by adding up all\n",
        "sentiment scores, and deciding the polarity of the movie review using\n",
        "the sign of the weighted score $S_{weighted}$.\n",
        "\n",
        "$$S_{weighted}(w_1w_2...w_n) = \\sum_{i = 1}^{n}SLex\\big[w_i\\big]$$\n",
        "\n",
        "\n",
        "Make sure you define an appropriate threshold for this approach.\n",
        "\n",
        "#### (Q1.2) Now incorporate magnitude information and report the classification accuracy. Don't forget to use the threshold. (1pt)"
      ]
    },
    {
      "cell_type": "code",
      "execution_count": null,
      "metadata": {
        "id": "HTRNijlqdBXX"
      },
      "outputs": [],
      "source": [
        "def ratio_imbalence(lexicon):\n",
        "  \"\"\"\n",
        "    Calculate the ratio of strong subjective words associated with positive sentiment\n",
        "    to strong subjective words associated with negative sentiment in a sentiment lexicon.\n",
        "\n",
        "    This function takes a sentiment lexicon as input and calculates the ratio of strong subjective words associated\n",
        "    with positive sentiment to strong subjective words associated with negative sentiment.\n",
        "\n",
        "    The idea is the following, since a strong magnitude is twice as important as a weak one, if more of them are positive\n",
        "    then negative (or vice-versa) we want to take this into account by mutiplying this ratio by the threshold.\n",
        "\n",
        "    Parameters:\n",
        "    lexicon (dict): A dictionary where keys are words, and values are sentiment labels.\n",
        "\n",
        "    Returns:\n",
        "    float: The ratio of strong subjective words with positive sentiment to strong subjective words with negative sentiment.\n",
        "  \"\"\"\n",
        "  get_all_values = np.array(list(lexicon.values()))\n",
        "  amount_strong_neg = sum(1 for value in get_all_values if 'strongsubj' in value and 'negative' in value)\n",
        "  amount_strong_pos = sum(1 for value in get_all_values if 'strongsubj' in value and 'positive' in value)\n",
        "  return amount_strong_pos, amount_strong_neg"
      ]
    },
    {
      "cell_type": "code",
      "execution_count": null,
      "metadata": {
        "colab": {
          "base_uri": "https://localhost:8080/"
        },
        "id": "9vVk7CvDpyka",
        "outputId": "35eaa765-5f71-4df2-dbab-8cc05074821e"
      },
      "outputs": [
        {
          "name": "stdout",
          "output_type": "stream",
          "text": [
            "The total amount of strong positive words 1470\n",
            "The total amount of strong negative words 3061\n",
            "As a result, since there is a 0.48023521724926493 higher positive ratio we can higher the threshold to 9\n",
            "Accuracy: 0.6890\n"
          ]
        }
      ],
      "source": [
        "lexicon = make_lexicon(weighted=True)\n",
        "\n",
        "amount_strong_pos, amount_strong_neg = ratio_imbalence(lexicon)\n",
        "print(\"The total amount of strong positive words\", amount_strong_pos)\n",
        "print(\"The total amount of strong negative words\", amount_strong_neg)\n",
        "print(\"As a result, since there is a\", amount_strong_pos/amount_strong_neg, \"higher positive ratio we can higher the threshold to 9\")\n",
        "magnitude_results = []\n",
        "\n",
        "for review in reviews:\n",
        "  document = build_document(review) # Combine all the sub-reviews together in a string\n",
        "\n",
        "  true_sentiment = review[\"sentiment\"] # Get true sentiment\n",
        "  predict_sentiment = classify_review(document, lexicon, weighted=True, threshold=9)  # Make a prediciton\n",
        "\n",
        "  magnitude_results.append(1 if true_sentiment == predict_sentiment else 0) # If prediction is correct add 1\n",
        "\n",
        "magnitude_accuracy = sum(magnitude_results)/len(magnitude_results)\n",
        "print(\"Accuracy: %0.4f\" % magnitude_accuracy)"
      ]
    },
    {
      "cell_type": "markdown",
      "metadata": {
        "id": "h9SHoGPfsAHV"
      },
      "source": [
        "#### (Q.1.3) Make a barplot of the two results (0.5pt)"
      ]
    },
    {
      "cell_type": "code",
      "execution_count": null,
      "metadata": {
        "colab": {
          "base_uri": "https://localhost:8080/",
          "height": 487
        },
        "id": "8LgBcYcXsEk3",
        "outputId": "32e62c23-f1e7-49cc-83e7-f566e33c4e55"
      },
      "outputs": [
        {
          "data": {
            "image/png": "[encoded data removed]",
            "text/plain": [
              "<Figure size 1000x500 with 1 Axes>"
            ]
          },
          "metadata": {},
          "output_type": "display_data"
        }
      ],
      "source": [
        "# creating the dataset\n",
        "data = {'S':token_accuracy, 'S_weighted':magnitude_accuracy}\n",
        "types = list(data.keys())\n",
        "accuracies = list(data.values())\n",
        "\n",
        "fig = plt.figure(figsize = (10, 5))\n",
        "\n",
        "# creating the bar plot\n",
        "plt.bar(types, accuracies, color ='blue',\n",
        "        width = 0.4)\n",
        "\n",
        "plt.xlabel(\"Type of Lexicon\")\n",
        "plt.ylabel(\"Accuracy\")\n",
        "plt.title(\"Accuracy for different type of classification using Lexicon\")\n",
        "plt.show()"
      ]
    },
    {
      "cell_type": "markdown",
      "metadata": {
        "id": "sNhS8OCVxMHd"
      },
      "source": [
        "#### (Q1.4) A better threshold (1pt)\n",
        "Above we have defined a threshold to account for an inherent bias in the dataset: there are more positive than negative words per review.\n",
        "However, that threshold does not take into account *document length*. Explain why this is a problem and implement an alternative way to compute the threshold."
      ]
    },
    {
      "cell_type": "markdown",
      "metadata": {
        "id": "gxv_z62PvGQZ"
      },
      "source": [
        "The threshold for classifying document sentiment is initially set at 8. However, this threshold is subject to adjustment based on the document's length. The underlying logic is that for longer documents, the threshold is increased because a greater length may indicate the presence of more positive words, making the sentiment classification more context-aware."
      ]
    },
    {
      "cell_type": "code",
      "execution_count": null,
      "metadata": {
        "colab": {
          "base_uri": "https://localhost:8080/"
        },
        "id": "Dwt0B8h8aKjr",
        "outputId": "dfc2a8d3-b596-4f89-ca03-a444499955a0"
      },
      "outputs": [
        {
          "name": "stdout",
          "output_type": "stream",
          "text": [
            "Accuracy: 0.6890\n"
          ]
        }
      ],
      "source": [
        "# The idea is the following, we first calculate the average length of reviews.\n",
        "# Then for each review we take the it's length and use it as a ratio (so if the length is longer we increase the amount of positives required)\n",
        "lexicon = make_lexicon(weighted=False)\n",
        "\n",
        "results = []\n",
        "average_len_doc = sum(len(build_document(review).split()) for review in reviews) / len(reviews) # Get the average length of document\n",
        "\n",
        "for review in reviews:\n",
        "  document = build_document(review) # Combine all the sub-reviews together in a string\n",
        "\n",
        "  true_sentiment = review[\"sentiment\"] # Get true sentiment\n",
        "  predict_sentiment = classify_review(document, lexicon, weighted=False, threshold=9 * len(document)/average_len_doc)  # Make a prediciton\n",
        "\n",
        "  results.append(1 if true_sentiment == predict_sentiment else 0) # If prediction is correct add 1\n",
        "\n",
        "results = sum(results)/len(results)\n",
        "print(\"Accuracy: %0.4f\" % magnitude_accuracy)"
      ]
    },
    {
      "cell_type": "markdown",
      "metadata": {
        "id": "LibV4nR89BXb"
      },
      "source": [
        "# (2) Naive Bayes (9.5pts)"
      ]
    },
    {
      "cell_type": "markdown",
      "metadata": {
        "id": "fnF9adQnuwia"
      },
      "source": [
        "\n",
        "Your second task is to program a simple Machine Learning approach that operates\n",
        "on a simple Bag-of-Words (BoW) representation of the text data, as\n",
        "described by Pang et al. (2002). In this approach, the only features we\n",
        "will consider are the words in the text themselves, without bringing in\n",
        "external sources of information. The BoW model is a popular way of\n",
        "representing texts as vectors, making it\n",
        "easy to apply classical Machine Learning algorithms on NLP tasks.\n",
        "However, the BoW representation is also very crude, since it discards\n",
        "all information related to word order and grammatical structure in the\n",
        "original text—as the name suggests.\n",
        "\n",
        "## Writing your own classifier (4pts)\n",
        "\n",
        "Write your own code to implement the Naive Bayes (NB) classifier. As\n",
        "a reminder, the Naive Bayes classifier works according to the following\n",
        "equation:\n",
        "$$\\hat{c} = \\operatorname*{arg\\,max}_{c \\in C} P(c|\\bar{f}) = \\operatorname*{arg\\,max}_{c \\in C} P(c)\\prod^n_{i=1} P(f_i|c)$$\n",
        "where $C = \\{ \\text{POS}, \\text{NEG} \\}$ is the set of possible classes,\n",
        "$\\hat{c} \\in C$ is the most probable class, and $\\bar{f}$ is the feature\n",
        "vector. Remember that we use the log of these probabilities when making\n",
        "a prediction:\n",
        "$$\\hat{c} = \\operatorname*{arg\\,max}_{c \\in C} \\Big\\{\\log P(c) + \\sum^n_{i=1} \\log P(f_i|c)\\Big\\}$$\n",
        "\n",
        "You can find more details about Naive Bayes in [Jurafsky &\n",
        "Martin](https://web.stanford.edu/~jurafsky/slp3/). You can also look at\n",
        "this helpful\n",
        "[pseudo-code](https://nlp.stanford.edu/IR-book/html/htmledition/naive-bayes-text-classification-1.html).\n",
        "\n",
        "*Note: this section and the next aim to put you in a position to replicate\n",
        "    Pang et al.'s Naive Bayes results. However, your numerical results\n",
        "    will differ from theirs, as they used different data.*\n",
        "\n",
        "**You must write the Naive Bayes training and prediction code from\n",
        "scratch.** You will not be given credit for using off-the-shelf Machine\n",
        "Learning libraries.\n",
        "\n",
        "The data contains the text of the reviews, where each document consists\n",
        "of the sentences in the review, the sentiment of the review and an index\n",
        "(cv) that you will later use for cross-validation. The\n",
        "text has already been tokenised and POS-tagged for you. Your algorithm\n",
        "should read in the text, **lowercase it**, store the words and their\n",
        "frequencies in an appropriate data structure that allows for easy\n",
        "computation of the probabilities used in the Naive Bayes algorithm, and\n",
        "then make predictions for new instances.\n"
      ]
    },
    {
      "cell_type": "markdown",
      "metadata": {
        "id": "vEpyQSBSkb33"
      },
      "source": [
        "#### (Q2.1) Unseen words (1pt)\n",
        "The presence of words in the test dataset that\n",
        "have not been seen during training can cause probabilities in the Naive Bayes classifier to equal $0$.\n",
        "These can be words which are unseen in both positive and negative training reviews (case 1), but also words which are seen in reviews _of only one sentiment class_ in the training dataset (case 2). In both cases, **you should skip these words for both classes at test time**.  What would be the problem instead with skipping words only for one class in case 2?"
      ]
    },
    {
      "cell_type": "markdown",
      "metadata": {
        "id": "BanFiYYnoxDW"
      },
      "source": [
        "The problem with skipping words only for one class (case 2) in the test dataset is that it can lead to biased and inaccurate classification results. Since the dataset is already imbalenced (as mentioned previosly), it is very probable that a word in in the positive class but not the negative one, therefore it is very likely that those words would also lead to a 0 probability.  "
      ]
    },
    {
      "cell_type": "markdown",
      "metadata": {
        "id": "gsZRhaI3WvzC"
      },
      "source": [
        "#### (Q2.2) Train your classifier on (positive and negative) reviews with cv-value 000-899, and test it on the remaining (positive and negative) reviews cv900–cv999.  Report results using classification accuracy as your evaluation metric. Your  features are the word vocabulary. The value of a feature is the count of that feature (word) in the document. (2pts)\n"
      ]
    },
    {
      "cell_type": "code",
      "execution_count": null,
      "metadata": {
        "colab": {
          "base_uri": "https://localhost:8080/"
        },
        "id": "rFpiqGVWxdVV",
        "outputId": "59cd1bb5-c5c9-4ab9-90b9-ef3384f911eb"
      },
      "outputs": [
        {
          "name": "stdout",
          "output_type": "stream",
          "text": [
            "Naive Bayes accuracy: 0.82\n"
          ]
        }
      ],
      "source": [
        "from sklearn.utils.class_weight import compute_class_weight\n",
        "class NaiveBayesClassifier:\n",
        "    def __init__(self, k=1):\n",
        "        \"\"\"\n",
        "        Initialize a Naive Bayes Classifier with Laplace smoothing.\n",
        "\n",
        "        Parameters:\n",
        "        k (int): The Laplace smoothing constant (default is 1).\n",
        "\n",
        "        This class initializes a Naive Bayes Classifier with Laplace smoothing.\n",
        "        Laplace smoothing is used to avoid zero probabilities and provide more robust classification.\n",
        "        \"\"\"\n",
        "        self.doc_counter = Counter()\n",
        "        self.token_counter = {'POS': Counter(), 'NEG': Counter()}\n",
        "        self.total_tokens = {'POS': 0, 'NEG': 0}\n",
        "        self.k = k\n",
        "\n",
        "    def fit(self, reviews):\n",
        "        \"\"\"\n",
        "        Fit the Naive Bayes Classifier to a list of reviews.\n",
        "\n",
        "        Parameters:\n",
        "        reviews (list): A list of reviews, each containing 'sentiment' and 'content' information.\n",
        "\n",
        "        This method calculates and stores prior and conditional probabilities for the classifier based on the provided reviews.\n",
        "        \"\"\"\n",
        "\n",
        "        # Iterate over each review in the provided list of reviews.\n",
        "        for r in reviews:\n",
        "            sentiment = r['sentiment']  # Extract the sentiment label from the review.\n",
        "            self.doc_counter[sentiment] += 1  # Update the document count for the respective sentiment.\n",
        "\n",
        "            # Iterate over each sentence in the review's content.\n",
        "            for sentence in r['content']:\n",
        "                if len(sentence) == 0:\n",
        "                    continue  # Skip empty sentences.\n",
        "\n",
        "                # Iterate over each token data (word) in the sentence.\n",
        "                for token_data in sentence:\n",
        "                    tokens = [token.lower() for token in token_data]  # Convert tokens to lowercase.\n",
        "\n",
        "                    if len(tokens[:-1]) == 1:\n",
        "                        self.token_counter[sentiment][tokens[0]] += 1  # Count single tokens.\n",
        "                    else:\n",
        "                        self.token_counter[sentiment][tuple(tokens[:-1])] += 1  # Count n-grams (tuples).\n",
        "\n",
        "        # Calculate total token counts for both positive (POS) and negative (NEG) classes.\n",
        "        for c_class in [\"POS\", \"NEG\"]:\n",
        "            self.total_tokens[c_class] = sum(self.token_counter[c_class].values()) + len(self.token_counter[c_class]) * self.k\n",
        "\n",
        "\n",
        "    def predict(self, content):\n",
        "        \"\"\"\n",
        "        Predict the sentiment of content using the Naive Bayes Classifier.\n",
        "\n",
        "        Parameters:\n",
        "        content (list): A list of sentences, each containing tokens to be classified.\n",
        "\n",
        "        Returns:\n",
        "        str: The predicted sentiment label ('POS' for positive or 'NEG' for negative).\n",
        "\n",
        "        This method predicts the sentiment of content based on the trained Naive Bayes Classifier with Laplace smoothing.\n",
        "        It calculates posterior probabilities for both 'POS' and 'NEG' classes and assigns the label with the higher probability as the predicted sentiment.\n",
        "        \"\"\"\n",
        "        posterior = {}\n",
        "        for c_class in [\"POS\", \"NEG\"]:\n",
        "            p = self.doc_counter[c_class] / sum(self.doc_counter.values())\n",
        "            posterior[c_class] = np.log(p)  # Calculate the log-prior probability for the class.\n",
        "\n",
        "            for sentence in content:\n",
        "                if len(sentence) == 0:  # Skip if the sentence is empty.\n",
        "                    continue\n",
        "\n",
        "                for token_data in sentence:\n",
        "                    tokens = [token.lower() for token in token_data]\n",
        "\n",
        "                    if len(sentence[0]) == 2:\n",
        "                        final_tokens = tokens[0]\n",
        "                    else:\n",
        "                        final_tokens = tuple(tokens[:-1])  # Extract the tokens if n-grams.\n",
        "\n",
        "                    if all(final_tokens in value for value in self.token_counter.values()):  # Check if token is in both classes.\n",
        "                        token_prob = (self.token_counter[c_class][final_tokens] + self.k) / self.total_tokens[c_class]  # Calculate token probability.\n",
        "                        posterior[c_class] += np.log(token_prob)  # Update the log-posterior probability for the class.\n",
        "\n",
        "        return max(posterior, key=posterior.get)  # Return the class label with the highest log-posterior probability.\n",
        "\n",
        "NB_classifier = NaiveBayesClassifier(k=0)\n",
        "NB_classifier.fit(reviews[:900] + reviews[1000:1900])\n",
        "test_reviews = reviews[900:1000] + reviews[1900:]\n",
        "NB_results = [int(NB_classifier.predict(r['content']) == r['sentiment']) for r in test_reviews]\n",
        "NB_accuracy = sum(NB_results) / len(NB_results)\n",
        "print(f\"Naive Bayes accuracy: {NB_accuracy:.2f}\")"
      ]
    },
    {
      "cell_type": "markdown",
      "metadata": {
        "id": "0INK-PBoM6CB"
      },
      "source": [
        "#### (Q2.3) Would you consider accuracy to also be a good way to evaluate your classifier in a situation where 90% of your data instances are of positive movie reviews? (1pt)\n",
        "\n",
        "Simulate this scenario by keeping the positive reviews\n",
        "data unchanged, but only using negative reviews cv000–cv089 for\n",
        "training, and cv900–cv909 for testing. Calculate the classification\n",
        "accuracy, and explain what changed."
      ]
    },
    {
      "cell_type": "markdown",
      "metadata": {
        "id": "oFbcsYlipBAw"
      },
      "source": [
        "In a situation where 90% of the data instances are positive movie reviews, accuracy alone may not be a suitable evaluation metric. This imbalance can lead to artificially high accuracy, making it misleading. As a classifier that only predicts \"Positive\" would get 0.9% accuracy."
      ]
    },
    {
      "cell_type": "code",
      "execution_count": null,
      "metadata": {
        "colab": {
          "base_uri": "https://localhost:8080/"
        },
        "id": "mFLRQdtZZlxj",
        "outputId": "f9ff0b80-988e-4641-a78a-88299f135d63"
      },
      "outputs": [
        {
          "name": "stdout",
          "output_type": "stream",
          "text": [
            "Naive Bayes accuracy: 0.60\n"
          ]
        }
      ],
      "source": [
        "NB_classifier = NaiveBayesClassifier(k=0)\n",
        "NB_classifier.fit(reviews[:90] + reviews[1000:1900])\n",
        "test_reviews = reviews[900:910] + reviews[1900:]\n",
        "NB_results = [int(NB_classifier.predict(r['content']) == r['sentiment']) for r in test_reviews]\n",
        "NB_accuracy = sum(NB_results) / len(NB_results)\n",
        "print(f\"Naive Bayes accuracy: {NB_accuracy:.2f}\")"
      ]
    },
    {
      "cell_type": "markdown",
      "metadata": {
        "id": "6wJzcHX3WUDm"
      },
      "source": [
        "## Smoothing (1pt)\n",
        "\n",
        "As mentioned above, the presence of words in the test dataset that\n",
        "have not been seen during training can cause probabilities in the Naive\n",
        "Bayes classifier to be $0$, thus making that particular test instance\n",
        "undecidable. The standard way to mitigate this effect (as well as to\n",
        "give more clout to rare words) is to use smoothing, in which the\n",
        "probability fraction\n",
        "$$\\frac{\\text{count}(w_i, c)}{\\sum\\limits_{w\\in V} \\text{count}(w, c)}$$ for a word\n",
        "$w_i$ becomes\n",
        "$$\\frac{\\text{count}(w_i, c) + \\text{smoothing}(w_i)}{\\sum\\limits_{w\\in V} \\text{count}(w, c) + \\sum\\limits_{w \\in V} \\text{smoothing}(w)}$$\n",
        "\n",
        "\n",
        "\n"
      ]
    },
    {
      "cell_type": "markdown",
      "metadata": {
        "id": "PBNIcbwUWphC"
      },
      "source": [
        "#### (Q2.4) Implement Laplace feature smoothing (1pt)\n",
        "Implement Laplace smoothing, i.e., smoothing with a constant value ($smoothing(w) = \\kappa, \\forall w \\in V$), in your Naive\n",
        "Bayes classifier’s code, and report the accuracy.\n",
        "Use $\\kappa = 1$."
      ]
    },
    {
      "cell_type": "code",
      "execution_count": null,
      "metadata": {
        "colab": {
          "base_uri": "https://localhost:8080/"
        },
        "id": "zTTD3cHper6X",
        "outputId": "8b03f56e-4a4a-4da1-d6ab-16eda5d35cfd"
      },
      "outputs": [
        {
          "name": "stdout",
          "output_type": "stream",
          "text": [
            "Naive Bayes accuracy: 0.83\n"
          ]
        }
      ],
      "source": [
        "NB_classifier = NaiveBayesClassifier(k=1)\n",
        "NB_classifier.fit(reviews[:900] + reviews[1000:1900])\n",
        "test_reviews = reviews[900:1000] + reviews[1900:]\n",
        "NB_results = [int(NB_classifier.predict(r['content']) == r['sentiment']) for r in test_reviews]\n",
        "NB_accuracy = sum(NB_results) / len(NB_results)\n",
        "print(f\"Naive Bayes accuracy: {NB_accuracy:.2f}\")"
      ]
    },
    {
      "cell_type": "markdown",
      "metadata": {
        "id": "ZiGcgwba87D5"
      },
      "source": [
        "## Cross-Validation (1.5pts)\n",
        "\n",
        "A serious danger in using Machine Learning on small datasets, with many\n",
        "iterations of slightly different versions of the algorithms, is ending up with Type III errors, also called the “testing hypotheses\n",
        "suggested by the data” errors. This type of error occurs when we make\n",
        "repeated improvements to our classifiers by playing with features and\n",
        "their processing, but we don’t get a fresh, never-before seen test\n",
        "dataset every time. Thus, we risk developing a classifier that gets better\n",
        "and better on our data, but only gets worse at generalizing to new, unseen data. In other words, we risk developping a classifier that overfits.\n",
        "\n",
        "A simple method to guard against Type III errors is to use\n",
        "Cross-Validation. In **N-fold Cross-Validation**, we divide the data into N\n",
        "distinct chunks, or folds. Then, we repeat the experiment N times: each\n",
        "time holding out one of the folds for testing, training our classifier\n",
        "on the remaining N - 1 data folds, and reporting performance on the\n",
        "held-out fold. We can use different strategies for dividing the data:\n",
        "\n",
        "-   Consecutive splitting:\n",
        "  - cv000–cv099 = Split 1\n",
        "  - cv100–cv199 = Split 2\n",
        "  - etc.\n",
        "  \n",
        "-   Round-robin splitting (mod 10):\n",
        "  - cv000, cv010, cv020, … = Split 1\n",
        "  - cv001, cv011, cv021, … = Split 2\n",
        "  - etc.\n",
        "\n",
        "-   Random sampling/splitting\n",
        "  - Not used here (but you may choose to split this way in a non-educational situation)\n",
        "\n"
      ]
    },
    {
      "cell_type": "markdown",
      "metadata": {
        "id": "8OeLcbSauGtR"
      },
      "source": [
        "#### (Q2.5) Write the code to implement 10-fold cross-validation using round-robin splitting for your Naive Bayes classifier from Q2.4 and compute the 10 accuracies. Report the final performance, which is the average of the performances per fold. If all splits perform equally well, this is a good sign. (1pt)"
      ]
    },
    {
      "cell_type": "code",
      "execution_count": null,
      "metadata": {
        "colab": {
          "base_uri": "https://localhost:8080/"
        },
        "id": "3KeCGPa7Nuzx",
        "outputId": "695e9aef-577b-4fdb-dd0d-3eb70a984615"
      },
      "outputs": [
        {
          "name": "stdout",
          "output_type": "stream",
          "text": [
            "Overall accuracies: [0.775, 0.825, 0.81, 0.855, 0.765, 0.855, 0.825, 0.79, 0.82, 0.805] with average: 0.8125\n"
          ]
        }
      ],
      "source": [
        "k = 10  # Number of folds\n",
        "accuracies = []\n",
        "\n",
        "# Perform k-fold cross-validation\n",
        "for i in range(k):\n",
        "    # Split data into training and test sets\n",
        "    train_reviews = [r for j, r in enumerate(reviews) if j % k != i]\n",
        "    test_reviews = [r for j, r in enumerate(reviews) if j % k == i]\n",
        "\n",
        "    NB = NaiveBayesClassifier()\n",
        "    NB.fit(train_reviews)\n",
        "\n",
        "    # Calculate accuracy for the test set\n",
        "    results = [int(NB.predict(r['content']) == r['sentiment']) for r in test_reviews]\n",
        "    accuracy = sum(results) / len(results)\n",
        "    accuracies.append(accuracy)\n",
        "\n",
        "average_accuracy = np.mean(accuracies)\n",
        "print(\"Overall accuracies:\", accuracies, \"with average:\", average_accuracy)"
      ]
    },
    {
      "cell_type": "markdown",
      "metadata": {
        "id": "otdlsDXBNyOa"
      },
      "source": [
        "#### (Q2.6) Report the variance of the 10 accuracy scores. (0.5pt)\n",
        "\n",
        "**Please report all future results using 10-fold cross-validation now\n",
        "(unless told to use the held-out test set).** Note: you're not allowed to use a library for computing the variance."
      ]
    },
    {
      "cell_type": "code",
      "execution_count": null,
      "metadata": {
        "colab": {
          "base_uri": "https://localhost:8080/"
        },
        "id": "ZoBQm1KuNzNR",
        "outputId": "19d62c00-d36a-49b8-cbed-782add441119"
      },
      "outputs": [
        {
          "name": "stdout",
          "output_type": "stream",
          "text": [
            "0.0008212499999999988\n"
          ]
        }
      ],
      "source": [
        "print(sum((accuracies - average_accuracy)**2) / len(accuracies))"
      ]
    },
    {
      "cell_type": "markdown",
      "metadata": {
        "id": "s6A2zX9_BRKm"
      },
      "source": [
        "## Features, overfitting, and the curse of dimensionality\n",
        "\n",
        "In the Bag-of-Words model, ideally we would like each distinct word in\n",
        "the text to be mapped to its own dimension in the output vector\n",
        "representation. However, real world text is messy, and we need to decide\n",
        "on what we consider to be a word. For example, is “`word`\" different\n",
        "from “`Word`\", from “`word`”, or from “`words`\"? Too strict a\n",
        "definition, and the number of features explodes, while our algorithm\n",
        "fails to learn anything generalisable. Too lax, and we risk destroying\n",
        "our learning signal. In the following section, you will learn about\n",
        "confronting the feature sparsity and the overfitting problems as they\n",
        "occur in NLP classification tasks."
      ]
    },
    {
      "cell_type": "markdown",
      "metadata": {
        "id": "EKK8FNt8VtcZ"
      },
      "source": [
        "### Stemming (1.5pts)\n",
        "\n",
        "To make your algorithm more robust, use stemming and hash different inflections of a word to the same feature in the BoW vector space. Please use the [Porter stemming\n",
        "    algorithm](http://www.nltk.org/howto/stem.html) from NLTK.\n",
        "\n"
      ]
    },
    {
      "cell_type": "code",
      "execution_count": null,
      "metadata": {
        "id": "A3-2Z7_fJAz1"
      },
      "outputs": [],
      "source": [
        "from nltk.stem.porter import *\n",
        "import copy\n",
        "stemmer = PorterStemmer()\n",
        "\n",
        "stemsentence = copy.deepcopy(reviews)\n",
        "for i, review in enumerate(reviews):\n",
        "  for j, sentences in enumerate(review[\"content\"]):\n",
        "    for k, sentence in enumerate(sentences):\n",
        "      for l, words in enumerate(sentence):\n",
        "        stemsentence[i][\"content\"][j][k][l] = stemmer.stem(words)"
      ]
    },
    {
      "cell_type": "markdown",
      "metadata": {
        "id": "6SrJ1BeLXTnk"
      },
      "source": [
        "#### (Q2.7): How does the performance of your classifier change when you use stemming on your training and test datasets? (1pt)\n",
        "Use cross-validation to evaluate the classifier.\n"
      ]
    },
    {
      "cell_type": "code",
      "execution_count": null,
      "metadata": {
        "colab": {
          "base_uri": "https://localhost:8080/"
        },
        "id": "0m4yfvTvJpx2",
        "outputId": "ea95e4bf-4d40-49de-9800-9e47cba52c7f"
      },
      "outputs": [
        {
          "name": "stdout",
          "output_type": "stream",
          "text": [
            "Overall accuracies: [0.78, 0.83, 0.805, 0.86, 0.785, 0.85, 0.82, 0.78, 0.84, 0.81] with average: 0.8160000000000001\n"
          ]
        }
      ],
      "source": [
        "k = 10  # Number of folds\n",
        "accuracies = []\n",
        "\n",
        "# Perform k-fold cross-validation\n",
        "for i in range(k):\n",
        "    # Split data into training and test sets\n",
        "    train_reviews = [r for j, r in enumerate(stemsentence) if j % k != i]\n",
        "    test_reviews = [r for j, r in enumerate(stemsentence) if j % k == i]\n",
        "\n",
        "    NB = NaiveBayesClassifier()\n",
        "    NB.fit(train_reviews)\n",
        "\n",
        "    # Calculate accuracy for the test set\n",
        "    results = [int(NB.predict(r['content']) == r['sentiment']) for r in test_reviews]\n",
        "    accuracy = sum(results) / len(results)\n",
        "    accuracies.append(accuracy)\n",
        "\n",
        "average_accuracy = np.mean(accuracies)\n",
        "print(\"Overall accuracies:\", accuracies, \"with average:\", average_accuracy)"
      ]
    },
    {
      "cell_type": "markdown",
      "metadata": {
        "id": "JkDHVq_1XUVP"
      },
      "source": [
        "#### (Q2.8) What happens to the number of features (i.e., the size of the vocabulary) when using stemming as opposed to (Q2.4)? (0.5pt)\n",
        "Give actual numbers. You can use the held-out training set to determine these."
      ]
    },
    {
      "cell_type": "code",
      "execution_count": null,
      "metadata": {
        "id": "_IAACNkf46jI"
      },
      "outputs": [],
      "source": [
        "def vocabulary_size(reviews):\n",
        "    \"\"\"\n",
        "    Calculate the vocabulary size of a list of reviews.\n",
        "\n",
        "    Parameters:\n",
        "    reviews (list): A list of reviews\n",
        "\n",
        "    Returns:\n",
        "    set: A set containing unique words from the reviews.\n",
        "\n",
        "    This function calculates the vocabulary size of a list of reviews by extracting unique words from the review content.\n",
        "    \"\"\"\n",
        "\n",
        "    set_words = set()  # Initialize an empty set to store unique words.\n",
        "\n",
        "    # Iterate over each review in the list.\n",
        "    for review in reviews:\n",
        "        # Iterate over each sentence in the review's content.\n",
        "        for sentences in review[\"content\"]:\n",
        "            # Iterate over each sentence in the sentences.\n",
        "            for sentence in sentences:\n",
        "                  if len(sentence[:-1])==1:\n",
        "                    set_words.add(sentence[0])  # Add the word to the set of unique words.\n",
        "                  else: # This is for a later question with the n-grams (in this scenario we want to compares the n-grams)\n",
        "                    set_words.add(tuple(sentence[:-1]))\n",
        "\n",
        "    return set_words  # Return the set of unique words, representing the vocabulary size.\n"
      ]
    },
    {
      "cell_type": "code",
      "execution_count": null,
      "metadata": {
        "colab": {
          "base_uri": "https://localhost:8080/"
        },
        "id": "MA3vee5-rJyy",
        "outputId": "c7206fe7-7544-4890-c07a-3a9a2c423986"
      },
      "outputs": [
        {
          "name": "stdout",
          "output_type": "stream",
          "text": [
            "Size of the vocabulary without stemming: 55384\n",
            "Size of the vocabulary with stemming: 34200\n"
          ]
        }
      ],
      "source": [
        "set_words_1grams = vocabulary_size(reviews)\n",
        "print(\"Size of the vocabulary without stemming:\", len(set_words_1grams))\n",
        "\n",
        "set_words = vocabulary_size(stemsentence) # Using the stem vocabulary from Q.2.6\n",
        "print(\"Size of the vocabulary with stemming:\", len(set_words))"
      ]
    },
    {
      "cell_type": "markdown",
      "metadata": {
        "id": "SoazfxbNV5Lq"
      },
      "source": [
        "### N-grams (1.5pts)\n",
        "\n",
        "A simple way of retaining some of the word\n",
        "order information when using bag-of-words representations is to use **n-gram** features.\n",
        "\n",
        "\n",
        "\n",
        "\n"
      ]
    },
    {
      "cell_type": "markdown",
      "metadata": {
        "id": "OHjy3I7-qWiu"
      },
      "source": [
        "#### (Q2.9) Retrain your classifier from (Q2.4) using **unigrams+bigrams** and **unigrams+bigrams+trigrams** as features. (1pt)\n",
        "Report accuracy and compare it with that of the approaches you have previously implemented. You are allowed to use NLTK to build n-grams from sentences."
      ]
    },
    {
      "cell_type": "code",
      "execution_count": null,
      "metadata": {
        "id": "k6AGOVMI7hFa"
      },
      "outputs": [],
      "source": [
        "def make_ngrams(reviews, amount_ngrams):\n",
        "    \"\"\"\n",
        "    Create n-grams from the content of reviews.\n",
        "\n",
        "    Parameters:\n",
        "    reviews (list): A list of review dictionaries, where each dictionary contains content to create n-grams from.\n",
        "    amount_ngrams (int): The number of n-grams to generate.\n",
        "\n",
        "    Returns:\n",
        "    list: A list of review dictionaries with n-grams added to their content.\n",
        "\n",
        "    This function takes a list of review dictionaries and generates n-grams from the content of each review's sentences.\n",
        "    It adds the n-grams to the content and returns a new list of review dictionaries with n-grams included.\n",
        "    \"\"\"\n",
        "\n",
        "    ngrams_list = copy.deepcopy(reviews)  # Create a deep copy of the original reviews list.\n",
        "\n",
        "    # Iterate over each review in the list.\n",
        "    for i, review in enumerate(reviews):\n",
        "        # Iterate over each sentence in the review's content.\n",
        "        for j, sentence in enumerate(review[\"content\"]):\n",
        "            joined_sent = full_sentence(sentence)  # Join the tokens in the sentence into a single string.\n",
        "\n",
        "            ngram = list(ngrams(joined_sent.split(), amount_ngrams))  # Generate n-grams from the sentence tokens.\n",
        "\n",
        "            # Use list comprehension to generate n-grams and append underscores (useless character to match adverb token).\n",
        "            ngrams_list[i][\"content\"][j] = [list(ngram_el) + [\"_\"] for ngram_el in ngram]\n",
        "\n",
        "    return ngrams_list  # Return the list of review dictionaries with n-grams added to their content.\n"
      ]
    },
    {
      "cell_type": "code",
      "execution_count": null,
      "metadata": {
        "colab": {
          "background_save": true
        },
        "id": "DNDomUPlSbIc",
        "outputId": "faeba8b7-babd-431f-d16c-46c871e1189f"
      },
      "outputs": [
        {
          "name": "stdout",
          "output_type": "stream",
          "text": [
            "Naive Bayes accuracy: 0.82\n"
          ]
        }
      ],
      "source": [
        "bigrams = make_ngrams(reviews, amount_ngrams=2)\n",
        "\n",
        "NB_classifier = NaiveBayesClassifier(k=1)\n",
        "NB_classifier.fit(bigrams[:900] + reviews[:900] + bigrams[1000:1900] + reviews[1000:1900])\n",
        "test_reviews = reviews[900:1000] + reviews[1900:] + bigrams[900:1000] + bigrams[1900:]\n",
        "NB_results = [int(NB_classifier.predict(r['content']) == r['sentiment']) for r in test_reviews]\n",
        "NB_accuracy = sum(NB_results) / len(NB_results)\n",
        "print(f\"Naive Bayes accuracy: {NB_accuracy:.2f}\")"
      ]
    },
    {
      "cell_type": "code",
      "execution_count": null,
      "metadata": {
        "colab": {
          "background_save": true
        },
        "id": "eYuKMTOpq9jz",
        "outputId": "62923e70-fa2c-4497-e0e3-d77fa7bd2aa6"
      },
      "outputs": [
        {
          "name": "stdout",
          "output_type": "stream",
          "text": [
            "Naive Bayes accuracy: 0.80\n"
          ]
        }
      ],
      "source": [
        "trigrams = make_ngrams(reviews, amount_ngrams=3)\n",
        "\n",
        "NB_classifier = NaiveBayesClassifier(k=1)\n",
        "NB_classifier.fit(trigrams[:900]+ reviews[:900] + bigrams[:900] + reviews[1000:1900] + bigrams[1000:1900] + trigrams[1000:1900])\n",
        "test_reviews = reviews[900:1000] + reviews[1900:] + bigrams[900:1000] + bigrams[1900:] + trigrams[900:1000] + trigrams[1900:]\n",
        "NB_results = [int(NB_classifier.predict(r['content']) == r['sentiment']) for r in test_reviews]\n",
        "NB_accuracy = sum(NB_results) / len(NB_results)\n",
        "print(f\"Naive Bayes accuracy: {NB_accuracy:.2f}\")"
      ]
    },
    {
      "cell_type": "markdown",
      "metadata": {
        "id": "dVrGGArkrWoL"
      },
      "source": [
        "\n",
        "#### Q2.10: How many features does the BoW model have to take into account now? (0.5pt)\n",
        "How would you expect the number of features to increase theoretically (e.g., linear, square, cubed, exponential)? How does this number compare, in practice, to the number of features at (Q2.8)?\n",
        "\n",
        "Use the held-out training set once again for this.\n"
      ]
    },
    {
      "cell_type": "markdown",
      "metadata": {
        "id": "yEGZ9SV8pPaa"
      },
      "source": [
        "As the value of \"n\" in n-grams increases, the number of unique n-grams and features grows exponentially. This growth is a result of the increasing number of possible combinations of \"n\" consecutive words, which expands every time we move from n-grams to (n+1)-grams.\n",
        "\n",
        "In more precise terms, for a vocabulary size of \"V,\" the number of possible (n+1)-grams is determined by V*(n+1), and this growth follows an exponential pattern."
      ]
    },
    {
      "cell_type": "code",
      "execution_count": null,
      "metadata": {
        "colab": {
          "background_save": true
        },
        "id": "_z8sAJeUrdtM",
        "outputId": "55ba3da0-350f-4f29-aa92-0646a8f2b598"
      },
      "outputs": [
        {
          "name": "stdout",
          "output_type": "stream",
          "text": [
            "Size of the vocabulary for bigrams: 477485\n",
            "Size of the vocabulary for trigrams: 986354\n"
          ]
        },
        {
          "data": {
            "image/png": "[encoded data removed]",
            "text/plain": [
              "<Figure size 1000x500 with 1 Axes>"
            ]
          },
          "metadata": {},
          "output_type": "display_data"
        }
      ],
      "source": [
        "set_words_bigrams = vocabulary_size(bigrams)\n",
        "print(\"Size of the vocabulary for bigrams:\", len(set_words_bigrams))\n",
        "\n",
        "set_words_trigrams = vocabulary_size(trigrams)\n",
        "print(\"Size of the vocabulary for trigrams:\", len(set_words_trigrams))\n",
        "\n",
        "plt.figure(figsize=(10, 5))\n",
        "plt.bar([\"1-gram\", \"2-gram\", \"3-gram\"], [len(set_words_1grams), len(set_words_bigrams), len(set_words_trigrams)], width=0.5, color=\"blue\")\n",
        "\n",
        "for i, v in enumerate([len(set_words_1grams), len(set_words_bigrams), len(set_words_trigrams)]):\n",
        "  plt.text(i-0.1, v+ 5000, str(v))\n",
        "plt.ylabel(\"Amount of features\")\n",
        "plt.xlabel(\"N-grams\")\n",
        "plt.title(\"Number of features without stemming\")\n",
        "\n",
        "x= np.arange(3)\n",
        "y = [len(set_words_1grams), len(set_words_bigrams), len(set_words_trigrams)]\n",
        "p = np.polyfit(x, np.log(y), 1)\n",
        "plt.plot(x, np.exp(p[1]) * np.exp(p[0] * x), '--r')\n",
        "plt.show()"
      ]
    },
    {
      "cell_type": "markdown",
      "metadata": {
        "id": "CHWKDL3YV6vh"
      },
      "source": [
        "# (3) Support Vector Machines (4pts)"
      ]
    },
    {
      "cell_type": "markdown",
      "metadata": {
        "id": "hJSYhcVaoJGt"
      },
      "source": [
        "Though simple to understand, implement, and debug, one\n",
        "major problem with the Naive Bayes classifier is that its performance\n",
        "deteriorates (becomes skewed) when it is being used with features which\n",
        "are not independent (i.e., are correlated). Another popular classifier\n",
        "that doesn’t scale as well to big data, and is not as simple to debug as\n",
        "Naive Bayes, but that doesn’t assume feature independence is the Support\n",
        "Vector Machine (SVM) classifier.\n",
        "\n",
        "You can find more details about SVMs in Chapter 7 of Bishop: Pattern Recognition and Machine Learning.\n",
        "Other sources for learning SVM:\n",
        "* http://web.mit.edu/zoya/www/SVM.pdf\n",
        "* http://www.cs.columbia.edu/~kathy/cs4701/documents/jason_svm_tutorial.pdf\n",
        "* https://pythonprogramming.net/support-vector-machine-intro-machine-learning-tutorial/\n",
        "\n",
        "\n",
        "\n",
        "\n",
        "\n",
        "\n",
        "\n",
        "Use the scikit-learn implementation of\n",
        "[SVM](http://scikit-learn.org/stable/modules/svm.html) with the default parameters. (You are not expected to perform any hyperparameter tuning, but feel free to do it if you think it gives you good insights for the discussion in question 5.)\n",
        "\n"
      ]
    },
    {
      "cell_type": "markdown",
      "metadata": {
        "id": "0LnzNtQBV8gr"
      },
      "source": [
        "#### (Q3.1): Train SVM and compare to Naive Bayes (2pts)\n",
        "\n",
        "Train an SVM classifier (sklearn.svm.LinearSVC) using the features collected for Naive Bayes. Compare the\n",
        "classification performance of the SVM classifier to that of the Naive\n",
        "Bayes classifier with smoothing.\n",
        "Use cross-validation to evaluate the performance of the classifiers.\n",
        "\n"
      ]
    },
    {
      "cell_type": "code",
      "execution_count": null,
      "metadata": {
        "colab": {
          "background_save": true
        },
        "id": "JBscui8Mvoz0"
      },
      "outputs": [],
      "source": [
        "# YOUR CODE HERE\n",
        "from sklearn.feature_extraction.text import TfidfVectorizer\n",
        "from sklearn import svm\n",
        "\n",
        "#--------------------- HELPER FUNCTIONS ---------------------\n",
        "def create_folds(data, n_folds=10):\n",
        "    \"\"\"\n",
        "    Create folds using robin-round style.\n",
        "\n",
        "    Parameters:\n",
        "    data (list): Reviews containing the X_train and y_train.\n",
        "    n_folds (int): number of folds to split the data.\n",
        "\n",
        "    Returns:\n",
        "    folds (list): data splitted in n_folds.\n",
        "    \"\"\"\n",
        "    folds = []\n",
        "    fold_indices = []\n",
        "    n_data = len(data)\n",
        "\n",
        "    # computes indices using Round Robbin fashion\n",
        "    '''\n",
        "    fold: 0\n",
        "    [0, 10, 20, 30, 40, 50, 60, 70, ..., 960, 970, 980, 990]\n",
        "    fold: 1\n",
        "    [1, 11, 21, 31, 41, 51, 61, 71, ..., 961, 971, 981, 991]\n",
        "    fold: 2\n",
        "    [2, 12, 22, 32, 42, 52, 62, 72, ..., 962, 972, 982, 992]\n",
        "    fold: 3\n",
        "    [3, 13, 23, 33, 43, 53, 63, 73, ..., 963, 973, 983, 993]\n",
        "    fold: 4\n",
        "    [4, 14, 24, 34, ...\n",
        "    '''\n",
        "    # create indices for folds\n",
        "    for n in range(n_folds):\n",
        "        fold_indices.append(list(range(n, n_data, n_folds)))\n",
        "\n",
        "    # fill folds w/ corresponding indices\n",
        "    for cur_fold_indices in fold_indices:\n",
        "        folds.append([data[i] for i in cur_fold_indices])\n",
        "\n",
        "    return folds\n",
        "\n",
        "def split_data(cur_fold, folds):\n",
        "    \"\"\"\n",
        "    Extract from folds the training and testing data for current fold.\n",
        "\n",
        "    Parameters:\n",
        "    cur_fold (int): current fold number.\n",
        "    folds (list): data splitted in n_folds.\n",
        "\n",
        "    Returns:\n",
        "    lists: 1 out 10 folds for testing, remaining for training\n",
        "          - X_train : token + tag\n",
        "          - X_test  : token + tag\n",
        "          - y_train : 'NEG', 'POS'\n",
        "          - y_test  : 'NEG', 'POS'\n",
        "    \"\"\"\n",
        "    # get train & test data for current fold\n",
        "    train, test = [], []\n",
        "    for j, fold in enumerate(folds):\n",
        "      if j == cur_fold:\n",
        "          test.extend(fold)\n",
        "      else:\n",
        "          train.extend(fold)\n",
        "\n",
        "    # extract content and sentiment from reviews\n",
        "    X_train = [review['content'] for review in train]\n",
        "    y_train = [review['sentiment'] for review in train]\n",
        "\n",
        "    X_test = [review['content'] for review in test]\n",
        "    y_test = [review['sentiment'] for review in test]\n",
        "\n",
        "    return X_train, y_train, X_test, y_test\n",
        "\n",
        "def get_features(X_fold, pos_tags=False, closed_classes=False):\n",
        "    \"\"\"\n",
        "    Extract features accroding to methods ( POST Tagging, Closed-classes or None) from data.\n",
        "\n",
        "    Parameters:\n",
        "    X_fold (list): training data containing the word and tag.\n",
        "    pos_tags (bool): adds the tag to the features.\n",
        "    closed_classes (bool): keep data only nouns, verbs, adjectives, and adverbs.\n",
        "\n",
        "    Returns:\n",
        "    list: reviews presented as sentences w/ lowered words + tag (if applicable)\n",
        "    \"\"\"\n",
        "    text = []\n",
        "    for i, review in enumerate(X_fold):\n",
        "      acc_sentences = \"\"\n",
        "      for sentence in review:\n",
        "        if len(sentence)==1:\n",
        "          continue\n",
        "\n",
        "        for word, tag in sentence:\n",
        "          word = word.lower()\n",
        "\n",
        "          # just add the word\n",
        "          if not (pos_tags or closed_classes):\n",
        "            acc_sentences += word + \" \"\n",
        "\n",
        "          # adding tag\n",
        "          if pos_tags:\n",
        "            acc_sentences += word + \"_\" + tag + \" \"\n",
        "\n",
        "          # keep only nouns, verbs, adjectives, and adverbs\n",
        "          if closed_classes:\n",
        "            if (tag.startswith('NN') or tag.startswith('VB') or\n",
        "                tag.startswith('JJ') or tag.startswith('RB')):\n",
        "              acc_sentences += word + \"_\" + tag + \" \"\n",
        "            else:\n",
        "              continue\n",
        "\n",
        "      text.append(acc_sentences)\n",
        "    return text\n",
        "\n",
        "\n",
        "def train_SVM(clf, X_train, y_train):\n",
        "    \"\"\"\n",
        "    Trains a SVM model classifier.\n",
        "\n",
        "    Parameters:\n",
        "    X_train (list): training data with sentences having lowered-words (+ tag).\n",
        "    y_train (list): labels POS or NEG.\n",
        "\n",
        "    Returns:\n",
        "    object: model trained\n",
        "    \"\"\"\n",
        "    # train model\n",
        "    clf.fit(X_train, y_train)\n",
        "    return clf\n",
        "\n",
        "def get_acc(y_preds, y_test):\n",
        "    \"\"\"\n",
        "    Calcualted accuracies for current fold, compares truth to predicted labesl.\n",
        "\n",
        "    Parameters:\n",
        "    y_preds (list): predicted labels.\n",
        "    y_test  (list): truth labels POS or NEG.\n",
        "\n",
        "    Returns:\n",
        "    float: number indicating the accuracy of the model\n",
        "    \"\"\"\n",
        "    acc = 0.0\n",
        "    for i, y_pred in enumerate(y_preds):\n",
        "      # if same label increase accumulator\n",
        "      if y_pred == y_test[i]:\n",
        "        acc += 1\n",
        "    return (acc/len(y_test))\n"
      ]
    },
    {
      "cell_type": "code",
      "execution_count": null,
      "metadata": {
        "colab": {
          "background_save": true
        },
        "id": "7ZoZb9i3pxua"
      },
      "outputs": [],
      "source": [
        "# YOUR CODE HERE\n",
        "from sklearn.svm import LinearSVC\n",
        "def cros_val_SVM(reviews, n_folds=10, pos_tags=False, closed_class=False, print_fold_acc=False):\n",
        "  \"\"\"\n",
        "  Do cross validation w/ SVM as classifier on reviews data.\n",
        "\n",
        "  Parameters:\n",
        "  reviews (list): Reviews containing the X_train and y_train.\n",
        "  n_folds (int): number of folds.\n",
        "  pos_tags (bool): adds the tag to the features.\n",
        "  closed_classes (bool): keep data only nouns, verbs, adjectives, and adverbs.\n",
        "  print_fold_acc (bool): print per each fold the model accuracy\n",
        "\n",
        "  Returns:\n",
        "  float: number indicating the mean accuracy of the model\n",
        "  \"\"\"\n",
        "\n",
        "  # convert text to numerical features for SVM\n",
        "  # https://scikit-learn.org/stable/auto_examples/text/plot_document_classification_20newsgroups.html\n",
        "  vectorizer = TfidfVectorizer(stop_words='english')\n",
        "\n",
        "  # Create 10 folds\n",
        "  folds = create_folds(reviews, n_folds=n_folds)\n",
        "  n_folds = len(folds)\n",
        "\n",
        "  # mean accuracy of the model\n",
        "  mean_accuracy = 0.0\n",
        "\n",
        "  # creates SVM clasifier\n",
        "  clf = LinearSVC()\n",
        "\n",
        "  # Train and eval each fold\n",
        "  print(f'--- Starting SVM Cross Validation ---')\n",
        "  if pos_tags:\n",
        "    print(\"-- Using: POST-Tagging\")\n",
        "  if closed_class:\n",
        "    print(\"-- Using: closed_class\")\n",
        "\n",
        "  for cur_fold in range(n_folds):\n",
        "    # split the data for training and evaluation\n",
        "    '''\n",
        "    X_train[0], X_train[1]\n",
        "    len(X_train[0]): 11 sentences -> [[['Damn', 'JJ'], ['that', 'IN'],..]\n",
        "    len(X_train[1]): 26 sentences -> [[['Janeane', 'NNP'], ['Garofalo', 'NNP'],..]\n",
        "\n",
        "    y_train\n",
        "    ['NEG', 'NEG', 'NEG', 'NEG', 'NEG', 'NEG', 'NEG'...\n",
        "    '''\n",
        "    X_train, y_train, X_test, y_test = split_data(cur_fold, folds)\n",
        "\n",
        "    # Q 3.2 & 3.3\n",
        "    X_train = get_features(X_train, pos_tags, closed_class)\n",
        "    X_test = get_features(X_test, pos_tags, closed_class)\n",
        "\n",
        "    # vectorize X data for SVM\n",
        "    X_train_vec = vectorizer.fit_transform(X_train)\n",
        "    X_test_vec = vectorizer.transform(X_test)\n",
        "\n",
        "    # train classifier w/ current folds\n",
        "    SVM_clf = train_SVM(clf, X_train_vec, y_train)\n",
        "\n",
        "    # predict labels\n",
        "    y_pred = SVM_clf.predict(X_test_vec)\n",
        "\n",
        "    # calcualte acc per fold\n",
        "    accuracy = get_acc(y_pred, y_test)\n",
        "    if print_fold_acc:\n",
        "      print(f\"Accuracy of {cur_fold}-fold : {accuracy}\")\n",
        "    mean_accuracy += accuracy\n",
        "\n",
        "  return mean_accuracy/n_folds\n"
      ]
    },
    {
      "cell_type": "code",
      "execution_count": null,
      "metadata": {
        "colab": {
          "background_save": true
        },
        "id": "TwRuY7Hyp0L2",
        "outputId": "df49f11a-a0b4-415e-eadf-ff791d25b13e"
      },
      "outputs": [
        {
          "name": "stdout",
          "output_type": "stream",
          "text": [
            "--- Starting SVM Cross Validation ---\n",
            "Mean Accuracy: 0.8535\n"
          ]
        }
      ],
      "source": [
        "mean_accuracy = cros_val_SVM(reviews, n_folds=10, print_fold_acc=False)\n",
        "print(f\"Mean Accuracy: {mean_accuracy}\")"
      ]
    },
    {
      "cell_type": "markdown",
      "metadata": {
        "id": "636RqGiAp7IO"
      },
      "source": [
        "Comparison between 10_Cross-validation mean accuracacy results:\n",
        "  - NB w/ smoothing (k=1): 0.8125\n",
        "  - LinearSVM (only word): 0.8535"
      ]
    },
    {
      "cell_type": "markdown",
      "metadata": {
        "id": "ifXVWcK0V9qY"
      },
      "source": [
        "### POS disambiguation (2pts)\n",
        "\n",
        "Now add in part-of-speech features. You will find the\n",
        "movie review dataset has already been POS-tagged for you ([here](https://catalog.ldc.upenn.edu/docs/LDC99T42/tagguid1.pdf) you find the tagset). Try to\n",
        "replicate the results obtained by Pang et al. (2002).\n",
        "\n"
      ]
    },
    {
      "cell_type": "markdown",
      "metadata": {
        "id": "xA3I82o4oWGu"
      },
      "source": [
        "####(Q3.2) Replace your features with word+POS features, and report performance with the SVM. Use cross-validation to evaluate the classifier and compare the results with (Q3.1). Does part-of-speech information help? Explain why this may be the case. (1pt)\n"
      ]
    },
    {
      "cell_type": "code",
      "execution_count": null,
      "metadata": {
        "colab": {
          "background_save": true
        },
        "id": "NOvjYe-t2Br6",
        "outputId": "6d7176ce-620e-4e4e-ed15-c19d46d211b6"
      },
      "outputs": [
        {
          "name": "stdout",
          "output_type": "stream",
          "text": [
            "--- Starting SVM Cross Validation ---\n",
            "-- Using: POST-Tagging\n",
            "Mean Accuracy: 0.8559999999999999\n"
          ]
        }
      ],
      "source": [
        "# YOUR CODE HERE\n",
        "mean_accuracy = cros_val_SVM(reviews, n_folds=10, pos_tags=True, print_fold_acc=False)\n",
        "print(f\"Mean Accuracy: {mean_accuracy}\")"
      ]
    },
    {
      "cell_type": "markdown",
      "metadata": {
        "id": "L0dt_oQupUNe"
      },
      "source": [
        "*Write your answer here.*\n",
        "\n",
        "Comparison between 10_Cross-validation mean accuracacy results:\n",
        "  - NB w/ smoothing (k=1): 0.8125\n",
        "  - LinearSVM (only word): 0.8535\n",
        "  - LinearSVM (word + tag): 0.8559\n",
        "\n",
        "The difference in improvement is not significant which suggest that adding POS tag does not lead to major improvements on the performance of the SVM model at clasifying reviews. A reason for this could be due to the ambuigity when tagging the word. For instance when examining the reviews we see that one review has that `['drink', 'NN']` which without context this could be a verb or a noun, here set as a noun. Another example found in our data which (Beatrice, 1990) also mentions in her paper is the word one `['one', 'CD']` which could be expressed as cardinal number or as a noun. Therefore, the presense of these ambiguities when tagging words in different contexts does not lead to significant improvements when classifing the reviews."
      ]
    },
    {
      "cell_type": "markdown",
      "metadata": {
        "id": "Su-3w87eMW0w"
      },
      "source": [
        "#### (Q3.3) Discard all closed-class words from your data (keep only nouns, verbs, adjectives, and adverbs), and report performance. Does this help? Use cross-validation to evaluate the classifier and compare the results with (Q3.2). Are closed-class words detrimental to the classifier? Explain why this may be the case. (1pt)"
      ]
    },
    {
      "cell_type": "code",
      "execution_count": null,
      "metadata": {
        "colab": {
          "base_uri": "https://localhost:8080/"
        },
        "id": "CCUPlPozCYUX",
        "outputId": "61605da0-df9a-43c0-835c-902423e19f80"
      },
      "outputs": [
        {
          "name": "stdout",
          "output_type": "stream",
          "text": [
            "--- Starting SVM Cross Validation ---\n",
            "-- Using: closed_class\n",
            "Mean Accuracy: 0.8629999999999999\n"
          ]
        }
      ],
      "source": [
        "# (tag.startswith('NN') or tag.startswith('VB') or tag.startswith('JJ') or tag.startswith('RB'))\n",
        "# NNP is also a noun, NNS is also a noun ... --> hence we use startswith\n",
        "mean_accuracy = cros_val_SVM(reviews, n_folds=10, closed_class=True, print_fold_acc=False)\n",
        "print(f\"Mean Accuracy: {mean_accuracy}\")"
      ]
    },
    {
      "cell_type": "markdown",
      "metadata": {
        "id": "YaxCVrs8pWSp"
      },
      "source": [
        "*Write your answer here.*\n",
        "\n",
        "Comparison between 10_Cross-validation mean accuracacy results:\n",
        "  - NB w/ smoothing (k=1): 0.8125\n",
        "  - LinearSVM (only word): 0.8535\n",
        "  - LinearSVM (word + tag): 0.8559\n",
        "  - LinearSVM (word + open_class_tags): 0.8629\n",
        "\n",
        "We see a slighly improvement as compared to previous methods. In this case, we are only conserving nouns, verbs, adjectives, and adverbs (and all its variations i.e NNP, NNS and so on) which may encompass better the sentiment of a review. Thus, conserving the open classes makes for the slight improvement which prove not to be detrimental in this context.\n",
        "\n"
      ]
    },
    {
      "cell_type": "markdown",
      "metadata": {
        "id": "nfwqOciAl2No"
      },
      "source": [
        "# (4) Discussion (max. 500 words). (5pts)\n",
        "\n",
        "> Based on your experiments, what are the effective features and techniques in sentiment analysis? What information do different features encode?\n",
        "Why is this important? What are the limitations of these features and techniques?\n",
        "\n"
      ]
    },
    {
      "cell_type": "markdown",
      "metadata": {
        "id": "ZYuse5WLmekZ"
      },
      "source": [
        "*Write your answer here in up to 500 words (-0.25pt for >50 extra words, -0.5 points for >100 extra words, ...)*.\n",
        "\n",
        "## Sentiment Lexicon\n",
        "**Results:**\n",
        "  - Sing: 0.679\n",
        "  - Weights: 0.689\n",
        "  - New Treshold without weights: 0.689\n",
        "\n",
        "**Sumary:**\n",
        "- Ignores the context of the word\n",
        "- Not explicit way how to model strong vs weak words. A weight of 2 was chosen. When increasing this factor accuracy suffered.\n",
        "- The updated threshold, when applied in conjunction with weights, does not yield substantial improvements. However, when utilized without incorporating weights, it leads to significant progress primarily attributed to the length adaptation.\n",
        "- Unbalanced data can be accounted by using a different treshold value. Those methods ara data dependent.\n",
        "\n",
        "## Naive Bayes\n",
        "**Results:**\n",
        "  - Vanilla: 0.82\n",
        "  - 90% Unbalanced: 0.60\n",
        "  - Smoothing: 0.812\n",
        "  - Steeming: 0.816\n",
        "  - Bigrams: 0.82\n",
        "  - Trigrams: 0.80\n",
        "\n",
        "**Sumary:**\n",
        "- Words are treated independently. This means their position in a sentence is not taken into account. For unigrams this is not ideal as negation of adjectives clearly change the sentiment of the review. For bigrams and above this was benefitial\n",
        "-In the case of imbalanced data, Vanilla Naive Bayes faces performance challenges as the model is predominantly exposed to one class. This lack of exposure to the minority class hinders the model's ability to adapt effectively, impacting its performance on the underrepresented class.\n",
        "- To avoid features not seen in the dataset smoothing can remediate probabilities being zero\n",
        "- Stemming helped with reduction of features while conserving `stem` information and slighly improving NB classifier.\n",
        "- Bi and Trigrams features can encompases context information.\n",
        "- Trigrams do not seem to improve our model. This could be due to adding unnecesary information which makes the classification of the review harder.\n",
        "\n",
        "## LinearSVM\n",
        "**Results:**\n",
        "  - LinearSVM (only word): 0.853\n",
        "  - LinearSVM (word + tag): 0.855\n",
        "  - LinearSVM (word + open_class_tags): 0.862\n",
        "\n",
        "**Sumary:**\n",
        "- Better performance than NB w/ smoothing as compared to vanilla LinearSVM and improvements with tag methods\n",
        "- Using POS_tagging improves our model as we are now introducing the lexical category (nouns, verbs, adjective, ..) of a word which in turn aids to the model to capture the sentiment of a review. For instance: finding happy_adj in a sentence are a direct clue for a POS sentiment.      \n",
        "- Encounter problem of ambuigity when tagging words without taking into account its context, i.e `drink` as verb or as a noun.\n",
        "- Open-classes can reduce the number of features while allowing for a slighlty improvement on accuracy as compared to POS_tagging (all tags). This is because closed-classes do not (generally) carry POS or NEG clues therefore by skipping these words we can save in memory thus reducing the number of features."
      ]
    },
    {
      "cell_type": "markdown",
      "metadata": {
        "id": "iwaKwfWQhRk_"
      },
      "source": [
        "# Submission\n"
      ]
    },
    {
      "cell_type": "code",
      "execution_count": null,
      "metadata": {
        "id": "aOUeaET5ijk-"
      },
      "outputs": [],
      "source": [
        "# Write your names and student numbers here:\n",
        "# Student 1 #12345\n",
        "# Danilo Toapanta #14077566\n",
        "# Jort Vincenti #15209997"
      ]
    },
    {
      "cell_type": "markdown",
      "metadata": {
        "id": "3A9K-H6Tii3X"
      },
      "source": [
        "**That's it!**\n",
        "\n",
        "- Check if you answered all questions fully and correctly.\n",
        "- Download your completed notebook using `File -> Download .ipynb`\n",
        "- Check if your answers are all included in the file you submit.\n",
        "- Submit your .ipynb file via *Canvas*. One submission per group."
      ]
    },
    {
      "cell_type": "code",
      "execution_count": null,
      "metadata": {
        "id": "YHslatYAKBrF"
      },
      "outputs": [],
      "source": []
    }
  ],
  "metadata": {
    "colab": {
      "provenance": []
    },
    "kernelspec": {
      "display_name": "Python 3",
      "name": "python3"
    }
  },
  "nbformat": 4,
  "nbformat_minor": 0
}